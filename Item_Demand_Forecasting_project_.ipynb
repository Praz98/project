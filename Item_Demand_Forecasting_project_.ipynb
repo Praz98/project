{
  "nbformat": 4,
  "nbformat_minor": 0,
  "metadata": {
    "colab": {
      "provenance": [],
      "private_outputs": true,
      "mount_file_id": "1FJkqwnWQKZD7XoqNu-3OHfrGBUaYOXNC",
      "authorship_tag": "ABX9TyMbmVWlGdNpprCw/2pnrwiX",
      "include_colab_link": true
    },
    "kernelspec": {
      "name": "python3",
      "display_name": "Python 3"
    },
    "language_info": {
      "name": "python"
    },
    "accelerator": "GPU",
    "gpuClass": "standard"
  },
  "cells": [
    {
      "cell_type": "markdown",
      "metadata": {
        "id": "view-in-github",
        "colab_type": "text"
      },
      "source": [
        "<a href=\"https://colab.research.google.com/github/Praz98/project/blob/main/Item_Demand_Forecasting_project_.ipynb\" target=\"_parent\"><img src=\"https://colab.research.google.com/assets/colab-badge.svg\" alt=\"Open In Colab\"/></a>"
      ]
    },
    {
      "cell_type": "code",
      "execution_count": null,
      "metadata": {
        "id": "QLrp6QDnFz2z"
      },
      "outputs": [],
      "source": [
        "from google.colab import drive\n",
        "drive.mount('/content/drive')"
      ]
    },
    {
      "cell_type": "code",
      "source": [
        "\n",
        "#Importing all the necessary packages \n",
        "import numpy as np \n",
        "import pandas as pd \n",
        "import matplotlib.pyplot as plt \n",
        "import seaborn as sb \n",
        "from sklearn.model_selection import train_test_split \n",
        "from sklearn.preprocessing import LabelEncoder, StandardScaler \n",
        "from sklearn import metrics \n",
        "from sklearn.svm import SVC \n",
        "from xgboost import XGBRegressor \n",
        "from sklearn.ensemble import RandomForestRegressor \n",
        "from sklearn.metrics import mean_absolute_error as mae \n",
        "from sklearn.linear_model import LinearRegression\n",
        "from sklearn.neighbors import KNeighborsRegressor\n",
        "from sklearn.tree import DecisionTreeRegressor\n",
        "from sklearn.ensemble import RandomForestRegressor\n",
        "from sklearn.model_selection import cross_val_score\n",
        "from sklearn.metrics import accuracy_score,r2_score\n",
        "\n",
        "\n",
        "import warnings \n",
        "warnings.filterwarnings('ignore')\n",
        " "
      ],
      "metadata": {
        "id": "coj9c1HaG7Wd"
      },
      "execution_count": null,
      "outputs": []
    },
    {
      "cell_type": "code",
      "source": [
        "df  = pd.read_csv('/content/drive/MyDrive/train 2.csv')\n",
        "display(df.head()) \n",
        "display(df.tail())"
      ],
      "metadata": {
        "id": "lC8rjja5HaF7"
      },
      "execution_count": null,
      "outputs": []
    },
    {
      "cell_type": "code",
      "source": [
        "columns=list(df.columns)\n",
        "display(columns)\n",
        "display(df.shape)\n"
      ],
      "metadata": {
        "id": "8sRYmyVlIDol"
      },
      "execution_count": null,
      "outputs": []
    },
    {
      "cell_type": "code",
      "source": [
        "\n",
        "df.info()"
      ],
      "metadata": {
        "id": "oW77jYiXAPSr"
      },
      "execution_count": null,
      "outputs": []
    },
    {
      "cell_type": "code",
      "source": [
        "df.describe()\n"
      ],
      "metadata": {
        "id": "I6uv53EdJdU8"
      },
      "execution_count": null,
      "outputs": []
    },
    {
      "cell_type": "code",
      "source": [
        "print(df.isnull().sum())\n",
        "\n",
        "print(df.isna().sum())"
      ],
      "metadata": {
        "id": "tunG4bCHJjlw"
      },
      "execution_count": null,
      "outputs": []
    },
    {
      "cell_type": "code",
      "source": [
        "df.dtypes"
      ],
      "metadata": {
        "id": "U-vMFzNDKGvf"
      },
      "execution_count": null,
      "outputs": []
    },
    {
      "cell_type": "code",
      "source": [
        "df['date'] = pd.to_datetime(df['date'])"
      ],
      "metadata": {
        "id": "JbiJ9cvDLStp"
      },
      "execution_count": null,
      "outputs": []
    },
    {
      "cell_type": "code",
      "source": [
        "df.dtypes"
      ],
      "metadata": {
        "id": "B7djYnHkLfkO"
      },
      "execution_count": null,
      "outputs": []
    },
    {
      "cell_type": "code",
      "source": [
        "print(df[\"store\"].nunique())\n",
        "print(df[\"item\"].nunique())"
      ],
      "metadata": {
        "id": "zGRlmye1Lsp4"
      },
      "execution_count": null,
      "outputs": []
    },
    {
      "cell_type": "code",
      "source": [
        "df.groupby([\"store\"])[\"item\"].nunique()"
      ],
      "metadata": {
        "id": "NMeU-qYHL24n"
      },
      "execution_count": null,
      "outputs": []
    },
    {
      "cell_type": "code",
      "source": [
        "\n",
        "df.groupby([\"item\", \"date\"],as_index=False)['sales'] .agg({\"sales\": \"sum\"})"
      ],
      "metadata": {
        "id": "xDm0vlT4zuU3"
      },
      "execution_count": null,
      "outputs": []
    },
    {
      "cell_type": "code",
      "source": [
        "from datetime import timedelta\n",
        "df['start_date']=df['date']\n",
        "df['end_date']=df['date'] + timedelta(90)"
      ],
      "metadata": {
        "id": "FLG_ZdQe59hD"
      },
      "execution_count": null,
      "outputs": []
    },
    {
      "cell_type": "code",
      "source": [
        "df.head(5)"
      ],
      "metadata": {
        "id": "Ob7fxtVQ6nOs"
      },
      "execution_count": null,
      "outputs": []
    },
    {
      "cell_type": "code",
      "source": [
        "df1=pd.DataFrame(df)"
      ],
      "metadata": {
        "id": "f9UGoQbGBPzd"
      },
      "execution_count": null,
      "outputs": []
    },
    {
      "cell_type": "code",
      "source": [
        "df1"
      ],
      "metadata": {
        "id": "C-WznS5aBV0B"
      },
      "execution_count": null,
      "outputs": []
    },
    {
      "cell_type": "code",
      "source": [
        "x=pd.DataFrame(df.set_index('date').sort_index(ascending=False).groupby(['item'],as_index=False).rolling('90d').sales.sum().sort_index().to_frame()).reset_index()"
      ],
      "metadata": {
        "id": "a45-ycZt9rif"
      },
      "execution_count": null,
      "outputs": []
    },
    {
      "cell_type": "code",
      "source": [
        "x.head(10)"
      ],
      "metadata": {
        "id": "l5-jAtuGA2Cj"
      },
      "execution_count": null,
      "outputs": []
    },
    {
      "cell_type": "code",
      "source": [
        "df=x.copy()"
      ],
      "metadata": {
        "id": "bLsw5660BDq6"
      },
      "execution_count": null,
      "outputs": []
    },
    {
      "cell_type": "code",
      "source": [
        "df.head()"
      ],
      "metadata": {
        "id": "KCajL0MFBLDo"
      },
      "execution_count": null,
      "outputs": []
    },
    {
      "cell_type": "code",
      "source": [
        "def create_date_time_features(df):\n",
        "    \"\"\"\n",
        "    Create time series features based on time series index.\n",
        "    \"\"\"\n",
        "    df = df.copy()\n",
        "    df['month'] = df.date.dt.month\n",
        "    df['day_of_month'] = df.date.dt.day\n",
        "    df['day_of_year'] = df.date.dt.dayofyear\n",
        "    df['week_of_year'] = df.date.dt.weekofyear\n",
        "    df['day_of_week'] = df.date.dt.weekday\n",
        "    df['year'] = df.date.dt.year\n",
        "    df['quarter'] = df.date.dt.quarter\n",
        "    df[\"is_wknd\"] = (df.date.dt.weekday > 4).astype(int)\n",
        "    df['is_month_start'] = df.date.dt.is_month_start.astype(int)\n",
        "    df['is_month_end'] = df.date.dt.is_month_end.astype(int)\n",
        "    # 0: Winter - 1: Spring - 2: Summer - 3: Fall\n",
        "    df[\"season\"] = np.where(df.month.isin([12,1,2]), 0, 1)\n",
        "    df[\"season\"] = np.where(df.month.isin([6,7,8]), 2, df[\"season\"])\n",
        "    df[\"season\"] = np.where(df.month.isin([9, 10, 11]), 3, df[\"season\"])\n",
        "    return df\n",
        "df= create_date_time_features(df)"
      ],
      "metadata": {
        "id": "6S4EXE8hFVdx"
      },
      "execution_count": null,
      "outputs": []
    },
    {
      "cell_type": "code",
      "source": [
        "df"
      ],
      "metadata": {
        "id": "SfZ-FZtTFgKf"
      },
      "execution_count": null,
      "outputs": []
    },
    {
      "cell_type": "code",
      "source": [
        "\n",
        "features = ['year', 'month','week_of_year','quarter', 'season'] \n",
        "plt.subplots(figsize=(20, 10)) \n",
        "for i, col in enumerate(features):\n",
        "  plt.subplot(2, 3, i + 1) \n",
        "  df.groupby(col).mean()['sales'].plot.bar() \n",
        "plt.show() "
      ],
      "metadata": {
        "id": "VZ2BkSrsEKRZ"
      },
      "execution_count": null,
      "outputs": []
    },
    {
      "cell_type": "code",
      "source": [
        "\n",
        "plt.figure(figsize=(10,5)) \n",
        "df.groupby('day_of_month').mean()['sales'].plot() \n",
        "plt.show()\n",
        " "
      ],
      "metadata": {
        "id": "yuwcXjQKGKFJ"
      },
      "execution_count": null,
      "outputs": []
    },
    {
      "cell_type": "code",
      "source": [
        "\n",
        "plt.subplots(figsize=(12, 5)) \n",
        "plt.subplot(1, 2, 1) \n",
        "sb.distplot(df['sales']) \n",
        "plt.subplot(1, 2, 2) \n",
        "sb.boxplot(df['sales']) \n",
        "plt.show() "
      ],
      "metadata": {
        "id": "k90wZUlFGnC4"
      },
      "execution_count": null,
      "outputs": []
    },
    {
      "cell_type": "code",
      "source": [
        "\n",
        "\n",
        "plt.figure(figsize=(10, 10)) \n",
        "sb.heatmap(df.corr() > 0.8, \n",
        "\n",
        "           annot=True, \n",
        "\n",
        "           cbar=False) \n",
        "plt.show() \n",
        " "
      ],
      "metadata": {
        "id": "ZrnmBe2WGwyZ"
      },
      "execution_count": null,
      "outputs": []
    },
    {
      "cell_type": "code",
      "source": [
        "def item_select(itm):\n",
        "  df_item=df[df['item']==itm]\n",
        "  df_item=df.sample(frac=1)\n",
        "  # Train set until the beginning of 2017 (until the end of 2016).\n",
        "  train = df.loc[(df[\"date\"] < \"2017-01-01\"), :]\n",
        "  # First 3 months of 2017 validation set.\n",
        "  test = df.loc[(df[\"date\"] >= \"2017-01-01\") & (df[\"date\"] < \"2017-04-01\"), :]\n",
        "\n",
        "  cols = [col for col in train.columns if col not in ['date', 'id', \"sales\", \"year\"]]\n",
        "\n",
        "  Y_train = train['sales']\n",
        "  X_train = train[cols]\n",
        "\n",
        "  Y_test = test['sales']\n",
        "  X_test = test[cols]\n",
        "\n",
        "  scaler=StandardScaler()\n",
        "  X_train=scaler.fit_transform(X_train)\n",
        "  X_test = scaler.transform(X_test)\n",
        "  return(X_train,Y_train,X_test,Y_test)\n"
      ],
      "metadata": {
        "id": "yBmSe5t2VdR4"
      },
      "execution_count": null,
      "outputs": []
    },
    {
      "cell_type": "code",
      "source": [
        "def lin_model(itm):\n",
        "  x_train,y_train,x_test,y_test=item_select(itm)\n",
        "  regressor=LinearRegression()\n",
        "  regressor.fit(x_train,y_train)\n",
        "  y_pred=regressor.predict(X_test)\n",
        "  return(regressor.score(x_test,y_test))\n",
        "\n",
        "\n",
        "def knn_model(itm):\n",
        "  x_train,y_train,x_test,y_test=item_select(itm)\n",
        "  knn=KNeighborsRegressor(hp_val['k_value'].loc[hp_val,item[itm]])\n",
        "  knn.fit(x_train,y_train)\n",
        "  return(knn.score(x_test,y_test))\n",
        "\n",
        "def dt_score(itm):\n",
        "  x_train,y_train,x_test,y_test=item_select(itm)\n",
        "  dt=DecisionTreeRegressor(max_depth=hp_val['Depth'].loc[hp_val.Item[itm]])\n",
        "  dt.fit(x_train,y_train)\n",
        "  y_pred=dt.predict(X_test)\n",
        "  dt_r2_score=r2_score(y_test,y_pred)\n",
        "  return(dt_r2_score)\n",
        "\n",
        "def decision_tree(itm):\n",
        "  x_train,y_train,x_test,y_test=item_select(itm)\n",
        "  dt=DecisionTreeRegressor(max_depth=hp_val['Depth'].loc[hp_val.Item[itm]])\n",
        "  dt.fit(x_train,y_train)\n",
        "  return(np.mean(cross_val_score(dt,x_train,y_train,cv=10)))\n"
      ],
      "metadata": {
        "id": "XOjp5WJQEeBA"
      },
      "execution_count": null,
      "outputs": []
    },
    {
      "cell_type": "code",
      "source": [
        "#hp for knn\n",
        "k_itr,item = 0,0\n",
        "k_ref,itm = [],[]\n",
        "for j in range(1,51):\n",
        "  cv_max=0\n",
        "  X_train, Y_train, X_test, Y_test =item_select(j)\n",
        "  for i in[1,2,3,4,5,6,7,8,9,10,20,50]:\n",
        "     knn=KNeighborsRegressor(i)\n",
        "     knn.fit(X_train,Y_train)\n",
        "     cv=np.mean(cross_val_score(knn,X_train,Y_train,cv=10))\n",
        "     if (cv_max<cv):\n",
        "       cv_max=cv \n",
        "       item =j\n",
        "       K_itr=i\n",
        "  k_ref.append(k_itr)\n",
        "  itm.append(item)\n",
        "\n",
        "hp_val=pd.DataFrame({'Item':itm,'k_value':k_ref},index=itm)\n"
      ],
      "metadata": {
        "id": "oeK0to1uXtdf"
      },
      "execution_count": null,
      "outputs": []
    },
    {
      "cell_type": "code",
      "source": [
        "#hp for dt\n",
        "d_itr,item = 0,0\n",
        "d_ref,itm = [],[]\n",
        "for j in range(1,51):\n",
        "  dep_max=0\n",
        "  X_train, Y_train, X_test, Y_test =item_select(j)\n",
        "  for i in[1,2,3,4,5,6,7,8,9,10,20,21,22,23,24,25,30,40,60]:\n",
        "    dt=DecisionTreeRegressor(max_depth=depth)\n",
        "    dt.fit(X_train,Y_train) \n",
        "    valAccuracy= cross_val_score(dt,X_train,Y_train,cv=10)\n",
        "    dep=np.mean(valAccuracy)\n",
        "    if(dep_max < dep):\n",
        "      dep_max = dep\n",
        "      d_itr = depth\n",
        "  d_ref.append(d_itr)\n",
        "\n",
        "hp_val['Depth']=d_ref\n",
        "\n",
        "\n"
      ],
      "metadata": {
        "id": "Z_tTGDrvZt5J"
      },
      "execution_count": null,
      "outputs": []
    },
    {
      "cell_type": "code",
      "source": [
        "cols = [col for col in df.columns if col not in ['date', 'id', \"sales\", \"year\"]]"
      ],
      "metadata": {
        "id": "1ueaNZv7go3N"
      },
      "execution_count": null,
      "outputs": []
    },
    {
      "cell_type": "code",
      "source": [
        "itm=1\n",
        "X_train = item_select(j)\n",
        "Y_train = item_select(j)\n",
        "X_test = item_select(j)\n",
        "Y_test = item_select(j)\n",
        "dt=DecisionTreeRegressor(max_depth=hp_val['Depth'].loc[hp_val.Item[itm]])\n",
        "dt.fit(X_train,Y_train)\n",
        "importance = dt.feature_importances_\n",
        "list(zip(importance,cols))\n"
      ],
      "metadata": {
        "id": "G3XTyqBHcswL"
      },
      "execution_count": null,
      "outputs": []
    },
    {
      "cell_type": "code",
      "source": [
        "k_temp,lin_temp,dtree_temp,dtree_r2_score,temp = [],[],[],[],[]\n",
        "for i in range(1,51):\n",
        "  k_temp.append(knn_model(i))\n",
        "  lin_temp.append(lin_model(i))\n",
        "  dtree_temp.append(decision_tree(i))\n",
        "  dtree_r2_score.append(dt_score(i))\n",
        "  temp.append(i)\n",
        "df_ml_score=pd.DataFrame({'item':temp,'dtree_cv_score':dtree_temp,'dt_r2':dtree_r2_score,'knn_score':k_temp,'lin_R2score':lin_temp})"
      ],
      "metadata": {
        "id": "tqeIpTzWcwpv"
      },
      "execution_count": null,
      "outputs": []
    }
  ]
}